{
  "nbformat": 4,
  "nbformat_minor": 0,
  "metadata": {
    "colab": {
      "provenance": [],
      "authorship_tag": "ABX9TyNl5LloxgdM8KqCTrsC/sT2",
      "include_colab_link": true
    },
    "kernelspec": {
      "name": "python3",
      "display_name": "Python 3"
    },
    "language_info": {
      "name": "python"
    }
  },
  "cells": [
    {
      "cell_type": "markdown",
      "metadata": {
        "id": "view-in-github",
        "colab_type": "text"
      },
      "source": [
        "<a href=\"https://colab.research.google.com/github/PhDSGilber/Embeddings-to-Named-entity-recognition-NER-use-Deep-Learning/blob/main/NER_CoNLL.ipynb\" target=\"_parent\"><img src=\"https://colab.research.google.com/assets/colab-badge.svg\" alt=\"Open In Colab\"/></a>"
      ]
    },
    {
      "cell_type": "markdown",
      "source": [
        "# **Conference on Natural Language Learning (CoNLL) - 2002**"
      ],
      "metadata": {
        "id": "4DiOJvd4vlgT"
      }
    },
    {
      "cell_type": "markdown",
      "source": [
        "CONLL-2002 is a leading resource in the field of natural language processing, specifically in the area of named entity recognition (NER). This dataset was presented at the Conference on Natural Machine and Language Learning (CoNLL) in 2002, with the main goal of establishing a standard for the evaluation and comparison of different methods and algorithms in NER tasks.\n",
        "\n",
        "The CONLL-2002 dataset is made up of texts in two languages: Spanish and Dutch. These texts come primarily from news sources, providing a realistic and challenging environment for the application of NER techniques. The data is annotated with information about named entities, classifying them into categories such as names of people, locations, organizations, and others.\n",
        "\n",
        "The creation of CONLL-2002 arose from the need for a standardized data set that would allow researchers and developers in the field of natural language processing to effectively compare the accuracy and effectiveness of different applied machine learning approaches and models. to the task of NER. This dataset has become a fundamental reference for the scientific community, providing a common framework for advancement and innovation in named entity recognition.\n",
        "\n",
        "Reference:\n",
        "*   https://www.clips.uantwerpen.be/conll2002/ner/\n",
        "*   https://paperswithcode.com/dataset/conll-2002\n",
        "*   https://aclanthology.org/W02-2024/\n",
        "\n",
        "\n"
      ],
      "metadata": {
        "id": "uiZBQ5U8vnot"
      }
    },
    {
      "cell_type": "markdown",
      "source": [
        "# **Exploratory Data Analysis (EDA)**"
      ],
      "metadata": {
        "id": "EP09cMpAssge"
      }
    },
    {
      "cell_type": "code",
      "source": [
        "#Requirements\n",
        "\n",
        "!pip install datasets transformers seqeval"
      ],
      "metadata": {
        "id": "KHNA6GPXw0YE"
      },
      "execution_count": null,
      "outputs": []
    },
    {
      "cell_type": "code",
      "source": [
        "import pandas as pd\n",
        "import seaborn as sns\n",
        "import matplotlib.pyplot as plt\n",
        "from datasets import load_dataset\n",
        "import pandas as pd\n",
        "import seaborn as sns\n",
        "import matplotlib.pyplot as plt\n",
        "from datasets import load_dataset\n",
        "from itertools import chain\n",
        "from collections import Counter"
      ],
      "metadata": {
        "id": "neHSN8Puhhwf"
      },
      "execution_count": null,
      "outputs": []
    },
    {
      "cell_type": "code",
      "execution_count": null,
      "metadata": {
        "id": "zeGGQY9YqBpZ"
      },
      "outputs": [],
      "source": [
        "# Upload dataset\n",
        "dataset = load_dataset(\"conll2002\", \"es\")"
      ]
    },
    {
      "cell_type": "code",
      "source": [
        "# Convert Dataset2df\n",
        "def dataset_to_dataframe(dataset):\n",
        "    df = pd.DataFrame(dataset)\n",
        "    df['token_count'] = df['tokens'].apply(len)\n",
        "    return df"
      ],
      "metadata": {
        "id": "kH8WbXiJdf50"
      },
      "execution_count": null,
      "outputs": []
    },
    {
      "cell_type": "code",
      "source": [
        "# Convert Dataset2df\n",
        "def flatten_and_count_tags(dataset, tag_mapping, tag_column):\n",
        "    all_tags = list(chain.from_iterable(dataset[tag_column]))\n",
        "    tag_names = [tag_mapping[tag] for tag in all_tags]\n",
        "    return Counter(tag_names)"
      ],
      "metadata": {
        "id": "WrGNyNQRid9K"
      },
      "execution_count": null,
      "outputs": []
    },
    {
      "cell_type": "code",
      "source": [
        "# Dataset to df\n",
        "train_df = dataset_to_dataframe(dataset['train'])\n",
        "val_df = dataset_to_dataframe(dataset['validation'])\n",
        "test_df = dataset_to_dataframe(dataset['test'])\n",
        "\n",
        "# AED\n",
        "train_df"
      ],
      "metadata": {
        "colab": {
          "base_uri": "https://localhost:8080/",
          "height": 701
        },
        "id": "-CiV575iyd35",
        "outputId": "d0c8dbc7-cf0d-4bbe-a937-86a42122a5a8"
      },
      "execution_count": null,
      "outputs": [
        {
          "output_type": "execute_result",
          "data": {
            "text/plain": [
              "        id                                             tokens  \\\n",
              "0        0  [Melbourne, (, Australia, ), ,, 25, may, (, EF...   \n",
              "1        1                                                [-]   \n",
              "2        2  [El, Abogado, General, del, Estado, ,, Daryl, ...   \n",
              "3        3  [La, petición, del, Abogado, General, tiene, l...   \n",
              "4        4  [Esta, página, web, lleva, un, mes, de, existe...   \n",
              "...    ...                                                ...   \n",
              "8319  8319  [Pese, a, las, nuevas, manifestaciones, de, lo...   \n",
              "8320  8320  [Ese, día, se, reunirán, los, ministros, de, R...   \n",
              "8321  8321  [El, Movimiento, ocupó, hace, tres, semanas, e...   \n",
              "8322  8322  [Tras, abandonar, las, oficinas, ocupadas, y, ...   \n",
              "8323  8323                                                 []   \n",
              "\n",
              "                                               pos_tags  \\\n",
              "0          [29, 21, 29, 22, 13, 59, 28, 21, 28, 22, 20]   \n",
              "1                                                  [16]   \n",
              "2     [4, 28, 1, 40, 28, 13, 47, 28, 13, 47, 38, 4, ...   \n",
              "3     [4, 28, 40, 28, 1, 47, 28, 38, 40, 3, 7, 28, 4...   \n",
              "4     [6, 28, 1, 47, 7, 28, 40, 28, 13, 28, 40, 4, 3...   \n",
              "...                                                 ...   \n",
              "8319  [48, 40, 4, 1, 28, 40, 4, 28, 40, 28, 13, 4, 2...   \n",
              "8320  [6, 28, 30, 47, 4, 28, 40, 28, 1, 13, 28, 28, ...   \n",
              "8321  [4, 28, 47, 47, 8, 28, 28, 1, 40, 8, 28, 40, 2...   \n",
              "8322  [40, 49, 4, 28, 1, 2, 49, 4, 28, 40, 28, 1, 13...   \n",
              "8323                                                 []   \n",
              "\n",
              "                                               ner_tags  token_count  \n",
              "0                     [5, 0, 5, 0, 0, 0, 0, 0, 3, 0, 0]           11  \n",
              "1                                                   [0]            1  \n",
              "2     [0, 1, 2, 2, 2, 0, 1, 2, 0, 0, 0, 0, 0, 0, 0, ...           40  \n",
              "3     [0, 0, 0, 1, 2, 0, 0, 0, 0, 0, 0, 0, 0, 3, 4, ...           61  \n",
              "4     [0, 0, 0, 0, 0, 0, 0, 0, 0, 0, 0, 0, 0, 0, 0, ...           50  \n",
              "...                                                 ...          ...  \n",
              "8319  [0, 0, 0, 0, 0, 0, 0, 0, 0, 0, 0, 0, 3, 4, 4, ...           34  \n",
              "8320  [0, 0, 0, 0, 0, 0, 0, 7, 8, 0, 1, 2, 0, 0, 7, ...           37  \n",
              "8321  [0, 3, 0, 0, 0, 0, 0, 0, 0, 0, 0, 0, 0, 0, 0, ...           52  \n",
              "8322  [0, 0, 0, 0, 0, 0, 0, 0, 0, 0, 0, 0, 0, 0, 3, ...           35  \n",
              "8323                                                 []            0  \n",
              "\n",
              "[8324 rows x 5 columns]"
            ],
            "text/html": [
              "\n",
              "  <div id=\"df-a5125efd-8639-40d1-aa5e-26a885160264\" class=\"colab-df-container\">\n",
              "    <div>\n",
              "<style scoped>\n",
              "    .dataframe tbody tr th:only-of-type {\n",
              "        vertical-align: middle;\n",
              "    }\n",
              "\n",
              "    .dataframe tbody tr th {\n",
              "        vertical-align: top;\n",
              "    }\n",
              "\n",
              "    .dataframe thead th {\n",
              "        text-align: right;\n",
              "    }\n",
              "</style>\n",
              "<table border=\"1\" class=\"dataframe\">\n",
              "  <thead>\n",
              "    <tr style=\"text-align: right;\">\n",
              "      <th></th>\n",
              "      <th>id</th>\n",
              "      <th>tokens</th>\n",
              "      <th>pos_tags</th>\n",
              "      <th>ner_tags</th>\n",
              "      <th>token_count</th>\n",
              "    </tr>\n",
              "  </thead>\n",
              "  <tbody>\n",
              "    <tr>\n",
              "      <th>0</th>\n",
              "      <td>0</td>\n",
              "      <td>[Melbourne, (, Australia, ), ,, 25, may, (, EF...</td>\n",
              "      <td>[29, 21, 29, 22, 13, 59, 28, 21, 28, 22, 20]</td>\n",
              "      <td>[5, 0, 5, 0, 0, 0, 0, 0, 3, 0, 0]</td>\n",
              "      <td>11</td>\n",
              "    </tr>\n",
              "    <tr>\n",
              "      <th>1</th>\n",
              "      <td>1</td>\n",
              "      <td>[-]</td>\n",
              "      <td>[16]</td>\n",
              "      <td>[0]</td>\n",
              "      <td>1</td>\n",
              "    </tr>\n",
              "    <tr>\n",
              "      <th>2</th>\n",
              "      <td>2</td>\n",
              "      <td>[El, Abogado, General, del, Estado, ,, Daryl, ...</td>\n",
              "      <td>[4, 28, 1, 40, 28, 13, 47, 28, 13, 47, 38, 4, ...</td>\n",
              "      <td>[0, 1, 2, 2, 2, 0, 1, 2, 0, 0, 0, 0, 0, 0, 0, ...</td>\n",
              "      <td>40</td>\n",
              "    </tr>\n",
              "    <tr>\n",
              "      <th>3</th>\n",
              "      <td>3</td>\n",
              "      <td>[La, petición, del, Abogado, General, tiene, l...</td>\n",
              "      <td>[4, 28, 40, 28, 1, 47, 28, 38, 40, 3, 7, 28, 4...</td>\n",
              "      <td>[0, 0, 0, 1, 2, 0, 0, 0, 0, 0, 0, 0, 0, 3, 4, ...</td>\n",
              "      <td>61</td>\n",
              "    </tr>\n",
              "    <tr>\n",
              "      <th>4</th>\n",
              "      <td>4</td>\n",
              "      <td>[Esta, página, web, lleva, un, mes, de, existe...</td>\n",
              "      <td>[6, 28, 1, 47, 7, 28, 40, 28, 13, 28, 40, 4, 3...</td>\n",
              "      <td>[0, 0, 0, 0, 0, 0, 0, 0, 0, 0, 0, 0, 0, 0, 0, ...</td>\n",
              "      <td>50</td>\n",
              "    </tr>\n",
              "    <tr>\n",
              "      <th>...</th>\n",
              "      <td>...</td>\n",
              "      <td>...</td>\n",
              "      <td>...</td>\n",
              "      <td>...</td>\n",
              "      <td>...</td>\n",
              "    </tr>\n",
              "    <tr>\n",
              "      <th>8319</th>\n",
              "      <td>8319</td>\n",
              "      <td>[Pese, a, las, nuevas, manifestaciones, de, lo...</td>\n",
              "      <td>[48, 40, 4, 1, 28, 40, 4, 28, 40, 28, 13, 4, 2...</td>\n",
              "      <td>[0, 0, 0, 0, 0, 0, 0, 0, 0, 0, 0, 0, 3, 4, 4, ...</td>\n",
              "      <td>34</td>\n",
              "    </tr>\n",
              "    <tr>\n",
              "      <th>8320</th>\n",
              "      <td>8320</td>\n",
              "      <td>[Ese, día, se, reunirán, los, ministros, de, R...</td>\n",
              "      <td>[6, 28, 30, 47, 4, 28, 40, 28, 1, 13, 28, 28, ...</td>\n",
              "      <td>[0, 0, 0, 0, 0, 0, 0, 7, 8, 0, 1, 2, 0, 0, 7, ...</td>\n",
              "      <td>37</td>\n",
              "    </tr>\n",
              "    <tr>\n",
              "      <th>8321</th>\n",
              "      <td>8321</td>\n",
              "      <td>[El, Movimiento, ocupó, hace, tres, semanas, e...</td>\n",
              "      <td>[4, 28, 47, 47, 8, 28, 28, 1, 40, 8, 28, 40, 2...</td>\n",
              "      <td>[0, 3, 0, 0, 0, 0, 0, 0, 0, 0, 0, 0, 0, 0, 0, ...</td>\n",
              "      <td>52</td>\n",
              "    </tr>\n",
              "    <tr>\n",
              "      <th>8322</th>\n",
              "      <td>8322</td>\n",
              "      <td>[Tras, abandonar, las, oficinas, ocupadas, y, ...</td>\n",
              "      <td>[40, 49, 4, 28, 1, 2, 49, 4, 28, 40, 28, 1, 13...</td>\n",
              "      <td>[0, 0, 0, 0, 0, 0, 0, 0, 0, 0, 0, 0, 0, 0, 3, ...</td>\n",
              "      <td>35</td>\n",
              "    </tr>\n",
              "    <tr>\n",
              "      <th>8323</th>\n",
              "      <td>8323</td>\n",
              "      <td>[]</td>\n",
              "      <td>[]</td>\n",
              "      <td>[]</td>\n",
              "      <td>0</td>\n",
              "    </tr>\n",
              "  </tbody>\n",
              "</table>\n",
              "<p>8324 rows × 5 columns</p>\n",
              "</div>\n",
              "    <div class=\"colab-df-buttons\">\n",
              "\n",
              "  <div class=\"colab-df-container\">\n",
              "    <button class=\"colab-df-convert\" onclick=\"convertToInteractive('df-a5125efd-8639-40d1-aa5e-26a885160264')\"\n",
              "            title=\"Convert this dataframe to an interactive table.\"\n",
              "            style=\"display:none;\">\n",
              "\n",
              "  <svg xmlns=\"http://www.w3.org/2000/svg\" height=\"24px\" viewBox=\"0 -960 960 960\">\n",
              "    <path d=\"M120-120v-720h720v720H120Zm60-500h600v-160H180v160Zm220 220h160v-160H400v160Zm0 220h160v-160H400v160ZM180-400h160v-160H180v160Zm440 0h160v-160H620v160ZM180-180h160v-160H180v160Zm440 0h160v-160H620v160Z\"/>\n",
              "  </svg>\n",
              "    </button>\n",
              "\n",
              "  <style>\n",
              "    .colab-df-container {\n",
              "      display:flex;\n",
              "      gap: 12px;\n",
              "    }\n",
              "\n",
              "    .colab-df-convert {\n",
              "      background-color: #E8F0FE;\n",
              "      border: none;\n",
              "      border-radius: 50%;\n",
              "      cursor: pointer;\n",
              "      display: none;\n",
              "      fill: #1967D2;\n",
              "      height: 32px;\n",
              "      padding: 0 0 0 0;\n",
              "      width: 32px;\n",
              "    }\n",
              "\n",
              "    .colab-df-convert:hover {\n",
              "      background-color: #E2EBFA;\n",
              "      box-shadow: 0px 1px 2px rgba(60, 64, 67, 0.3), 0px 1px 3px 1px rgba(60, 64, 67, 0.15);\n",
              "      fill: #174EA6;\n",
              "    }\n",
              "\n",
              "    .colab-df-buttons div {\n",
              "      margin-bottom: 4px;\n",
              "    }\n",
              "\n",
              "    [theme=dark] .colab-df-convert {\n",
              "      background-color: #3B4455;\n",
              "      fill: #D2E3FC;\n",
              "    }\n",
              "\n",
              "    [theme=dark] .colab-df-convert:hover {\n",
              "      background-color: #434B5C;\n",
              "      box-shadow: 0px 1px 3px 1px rgba(0, 0, 0, 0.15);\n",
              "      filter: drop-shadow(0px 1px 2px rgba(0, 0, 0, 0.3));\n",
              "      fill: #FFFFFF;\n",
              "    }\n",
              "  </style>\n",
              "\n",
              "    <script>\n",
              "      const buttonEl =\n",
              "        document.querySelector('#df-a5125efd-8639-40d1-aa5e-26a885160264 button.colab-df-convert');\n",
              "      buttonEl.style.display =\n",
              "        google.colab.kernel.accessAllowed ? 'block' : 'none';\n",
              "\n",
              "      async function convertToInteractive(key) {\n",
              "        const element = document.querySelector('#df-a5125efd-8639-40d1-aa5e-26a885160264');\n",
              "        const dataTable =\n",
              "          await google.colab.kernel.invokeFunction('convertToInteractive',\n",
              "                                                    [key], {});\n",
              "        if (!dataTable) return;\n",
              "\n",
              "        const docLinkHtml = 'Like what you see? Visit the ' +\n",
              "          '<a target=\"_blank\" href=https://colab.research.google.com/notebooks/data_table.ipynb>data table notebook</a>'\n",
              "          + ' to learn more about interactive tables.';\n",
              "        element.innerHTML = '';\n",
              "        dataTable['output_type'] = 'display_data';\n",
              "        await google.colab.output.renderOutput(dataTable, element);\n",
              "        const docLink = document.createElement('div');\n",
              "        docLink.innerHTML = docLinkHtml;\n",
              "        element.appendChild(docLink);\n",
              "      }\n",
              "    </script>\n",
              "  </div>\n",
              "\n",
              "\n",
              "<div id=\"df-369e74a0-502b-4fde-96e1-204b306cc309\">\n",
              "  <button class=\"colab-df-quickchart\" onclick=\"quickchart('df-369e74a0-502b-4fde-96e1-204b306cc309')\"\n",
              "            title=\"Suggest charts\"\n",
              "            style=\"display:none;\">\n",
              "\n",
              "<svg xmlns=\"http://www.w3.org/2000/svg\" height=\"24px\"viewBox=\"0 0 24 24\"\n",
              "     width=\"24px\">\n",
              "    <g>\n",
              "        <path d=\"M19 3H5c-1.1 0-2 .9-2 2v14c0 1.1.9 2 2 2h14c1.1 0 2-.9 2-2V5c0-1.1-.9-2-2-2zM9 17H7v-7h2v7zm4 0h-2V7h2v10zm4 0h-2v-4h2v4z\"/>\n",
              "    </g>\n",
              "</svg>\n",
              "  </button>\n",
              "\n",
              "<style>\n",
              "  .colab-df-quickchart {\n",
              "      --bg-color: #E8F0FE;\n",
              "      --fill-color: #1967D2;\n",
              "      --hover-bg-color: #E2EBFA;\n",
              "      --hover-fill-color: #174EA6;\n",
              "      --disabled-fill-color: #AAA;\n",
              "      --disabled-bg-color: #DDD;\n",
              "  }\n",
              "\n",
              "  [theme=dark] .colab-df-quickchart {\n",
              "      --bg-color: #3B4455;\n",
              "      --fill-color: #D2E3FC;\n",
              "      --hover-bg-color: #434B5C;\n",
              "      --hover-fill-color: #FFFFFF;\n",
              "      --disabled-bg-color: #3B4455;\n",
              "      --disabled-fill-color: #666;\n",
              "  }\n",
              "\n",
              "  .colab-df-quickchart {\n",
              "    background-color: var(--bg-color);\n",
              "    border: none;\n",
              "    border-radius: 50%;\n",
              "    cursor: pointer;\n",
              "    display: none;\n",
              "    fill: var(--fill-color);\n",
              "    height: 32px;\n",
              "    padding: 0;\n",
              "    width: 32px;\n",
              "  }\n",
              "\n",
              "  .colab-df-quickchart:hover {\n",
              "    background-color: var(--hover-bg-color);\n",
              "    box-shadow: 0 1px 2px rgba(60, 64, 67, 0.3), 0 1px 3px 1px rgba(60, 64, 67, 0.15);\n",
              "    fill: var(--button-hover-fill-color);\n",
              "  }\n",
              "\n",
              "  .colab-df-quickchart-complete:disabled,\n",
              "  .colab-df-quickchart-complete:disabled:hover {\n",
              "    background-color: var(--disabled-bg-color);\n",
              "    fill: var(--disabled-fill-color);\n",
              "    box-shadow: none;\n",
              "  }\n",
              "\n",
              "  .colab-df-spinner {\n",
              "    border: 2px solid var(--fill-color);\n",
              "    border-color: transparent;\n",
              "    border-bottom-color: var(--fill-color);\n",
              "    animation:\n",
              "      spin 1s steps(1) infinite;\n",
              "  }\n",
              "\n",
              "  @keyframes spin {\n",
              "    0% {\n",
              "      border-color: transparent;\n",
              "      border-bottom-color: var(--fill-color);\n",
              "      border-left-color: var(--fill-color);\n",
              "    }\n",
              "    20% {\n",
              "      border-color: transparent;\n",
              "      border-left-color: var(--fill-color);\n",
              "      border-top-color: var(--fill-color);\n",
              "    }\n",
              "    30% {\n",
              "      border-color: transparent;\n",
              "      border-left-color: var(--fill-color);\n",
              "      border-top-color: var(--fill-color);\n",
              "      border-right-color: var(--fill-color);\n",
              "    }\n",
              "    40% {\n",
              "      border-color: transparent;\n",
              "      border-right-color: var(--fill-color);\n",
              "      border-top-color: var(--fill-color);\n",
              "    }\n",
              "    60% {\n",
              "      border-color: transparent;\n",
              "      border-right-color: var(--fill-color);\n",
              "    }\n",
              "    80% {\n",
              "      border-color: transparent;\n",
              "      border-right-color: var(--fill-color);\n",
              "      border-bottom-color: var(--fill-color);\n",
              "    }\n",
              "    90% {\n",
              "      border-color: transparent;\n",
              "      border-bottom-color: var(--fill-color);\n",
              "    }\n",
              "  }\n",
              "</style>\n",
              "\n",
              "  <script>\n",
              "    async function quickchart(key) {\n",
              "      const quickchartButtonEl =\n",
              "        document.querySelector('#' + key + ' button');\n",
              "      quickchartButtonEl.disabled = true;  // To prevent multiple clicks.\n",
              "      quickchartButtonEl.classList.add('colab-df-spinner');\n",
              "      try {\n",
              "        const charts = await google.colab.kernel.invokeFunction(\n",
              "            'suggestCharts', [key], {});\n",
              "      } catch (error) {\n",
              "        console.error('Error during call to suggestCharts:', error);\n",
              "      }\n",
              "      quickchartButtonEl.classList.remove('colab-df-spinner');\n",
              "      quickchartButtonEl.classList.add('colab-df-quickchart-complete');\n",
              "    }\n",
              "    (() => {\n",
              "      let quickchartButtonEl =\n",
              "        document.querySelector('#df-369e74a0-502b-4fde-96e1-204b306cc309 button');\n",
              "      quickchartButtonEl.style.display =\n",
              "        google.colab.kernel.accessAllowed ? 'block' : 'none';\n",
              "    })();\n",
              "  </script>\n",
              "</div>\n",
              "    </div>\n",
              "  </div>\n"
            ]
          },
          "metadata": {},
          "execution_count": 53
        }
      ]
    },
    {
      "cell_type": "code",
      "source": [
        "print(\"General information of dataset\")\n",
        "print(train_df.info())"
      ],
      "metadata": {
        "colab": {
          "base_uri": "https://localhost:8080/"
        },
        "id": "8JRzKamIfx-b",
        "outputId": "283d4405-8c52-426d-c47a-9a07e0610c2f"
      },
      "execution_count": null,
      "outputs": [
        {
          "output_type": "stream",
          "name": "stdout",
          "text": [
            "General information of dataset\n",
            "<class 'pandas.core.frame.DataFrame'>\n",
            "RangeIndex: 8324 entries, 0 to 8323\n",
            "Data columns (total 5 columns):\n",
            " #   Column       Non-Null Count  Dtype \n",
            "---  ------       --------------  ----- \n",
            " 0   id           8324 non-null   object\n",
            " 1   tokens       8324 non-null   object\n",
            " 2   pos_tags     8324 non-null   object\n",
            " 3   ner_tags     8324 non-null   object\n",
            " 4   token_count  8324 non-null   int64 \n",
            "dtypes: int64(1), object(4)\n",
            "memory usage: 325.3+ KB\n",
            "None\n"
          ]
        }
      ]
    },
    {
      "cell_type": "code",
      "source": [
        "# Analysis of sentence length (in terms of number of tokens)\n",
        "plt.figure(figsize=(10, 6))\n",
        "sns.histplot(train_df['token_count'], bins=30, kde=True)\n",
        "plt.title(\"Sentence Length Distribution in the Training Set\")\n",
        "plt.xlabel(\"Amount of Tokens per setence\")\n",
        "plt.ylabel(\"Frequency\")\n",
        "plt.show()"
      ],
      "metadata": {
        "colab": {
          "base_uri": "https://localhost:8080/",
          "height": 418
        },
        "id": "NiiWn0wffh7x",
        "outputId": "6abfdab6-f331-47bb-9ec3-c0267008a33d"
      },
      "execution_count": null,
      "outputs": [
        {
          "output_type": "display_data",
          "data": {
            "text/plain": [
              "<Figure size 1000x600 with 1 Axes>"
            ],
            "image/png": "[encoded data removed]"
          },
          "metadata": {}
        }
      ]
    },
    {
      "cell_type": "code",
      "source": [
        "# Mapeos de las etiquetas\n",
        "ner_index = [\"O\", \"B-PER\", \"I-PER\", \"B-ORG\", \"I-ORG\", \"B-LOC\", \"I-LOC\", \"B-MISC\", \"I-MISC\"]\n",
        "pos_index = ['AO', 'AQ', 'CC', 'CS', 'DA', 'DE', 'DD', 'DI', 'DN', 'DP', 'DT', 'Faa', 'Fat', 'Fc', 'Fd', 'Fe', 'Fg', 'Fh', 'Fia', 'Fit', 'Fp', 'Fpa', 'Fpt', 'Fs', 'Ft', 'Fx', 'Fz', 'I', 'NC', 'NP', 'P0', 'PD', 'PI', 'PN', 'PP', 'PR', 'PT', 'PX', 'RG', 'RN', 'SP', 'VAI', 'VAM', 'VAN', 'VAP', 'VAS', 'VMG', 'VMI', 'VMM', 'VMN', 'VMP', 'VMS', 'VSG', 'VSI', 'VSM', 'VSN', 'VSP', 'VSS', 'Y', 'Z']\n",
        "\n",
        "# Frecuency of NER\n",
        "ner_counts = flatten_and_count_tags(dataset['train'], ner_index, 'ner_tags')\n",
        "df_ner = pd.DataFrame(ner_counts.items(), columns=['NER Tag', 'Count']).sort_values('Count', ascending=False)\n",
        "plt.figure(figsize=(12, 8))\n",
        "sns.barplot(x='Count', y='NER Tag', data=df_ner)\n",
        "plt.title(\"Distribution of NER Tags in the Training Set\")\n",
        "plt.xlabel(\"Frequency\")\n",
        "plt.ylabel(\"Labels NER\")\n",
        "plt.show()\n",
        "\n",
        "# Frecuency of POS\n",
        "pos_counts = flatten_and_count_tags(dataset['train'], pos_index , 'pos_tags')\n",
        "df_pos = pd.DataFrame(pos_counts.items(), columns=['POS Tag', 'Count']).sort_values('Count', ascending=False)\n",
        "plt.figure(figsize=(12, 8))\n",
        "sns.barplot(x='Count', y='POS Tag', data=df_pos)\n",
        "plt.title(\"Distribution of POS Tags in the Training Set\")\n",
        "plt.xlabel(\"Frequency\")\n",
        "plt.ylabel(\"Labels POS\")\n",
        "plt.show()"
      ],
      "metadata": {
        "colab": {
          "base_uri": "https://localhost:8080/",
          "height": 882
        },
        "id": "UoLL4o71O5_P",
        "outputId": "dbc378c8-1874-4c06-fe04-3dc14abfc256"
      },
      "execution_count": null,
      "outputs": [
        {
          "output_type": "display_data",
          "data": {
            "text/plain": [
              "<Figure size 1200x800 with 1 Axes>"
            ],
            "image/png": "[encoded data removed]"
          },
          "metadata": {}
        },
        {
          "output_type": "display_data",
          "data": {
            "text/plain": [
              "<Figure size 1200x800 with 1 Axes>"
            ],
            "image/png": "[encoded data removed]"
          },
          "metadata": {}
        }
      ]
    },
    {
      "cell_type": "code",
      "source": [
        "def\n",
        "numeros = [0, 1, 2, 2, 2, 0, 1, 2, 0, 0, 0, 0, 0, 0, 0, 0, 0, 0, 0, 0, 0, 0, 0, 0, 0, 0, 0, 0, 0, 0, 0, 0, 0, 0, 0, 0, 0, 0, 7, 0]\n",
        "\n",
        "# La lista de valores correspondientes\n",
        "valores = [\"O\", \"B-PER\", \"I-PER\", \"B-ORG\", \"I-ORG\", \"B-LOC\", \"I-LOC\", \"B-MISC\", \"I-MISC\"]\n",
        "\n",
        "# Conversión utilizando comprensión de lista\n",
        "resultado = [valores[numero] for numero in numeros]\n",
        "\n",
        "print(resultado)"
      ],
      "metadata": {
        "id": "T5wyRL9JPKO2"
      },
      "execution_count": null,
      "outputs": []
    },
    {
      "cell_type": "markdown",
      "source": [
        "nltk"
      ],
      "metadata": {
        "id": "IfAAjD4uO6-D"
      }
    },
    {
      "cell_type": "code",
      "source": [
        "import nltk\n",
        "nltk.download('conll2002')\n",
        "nltk.corpus.conll2002.fileids()"
      ],
      "metadata": {
        "colab": {
          "base_uri": "https://localhost:8080/"
        },
        "id": "e6IpR_snC-gC",
        "outputId": "234838fe-e0b2-4c5b-ffa7-7f03d439b2df"
      },
      "execution_count": null,
      "outputs": [
        {
          "output_type": "stream",
          "name": "stderr",
          "text": [
            "[nltk_data] Downloading package conll2002 to /root/nltk_data...\n",
            "[nltk_data]   Unzipping corpora/conll2002.zip.\n"
          ]
        },
        {
          "output_type": "execute_result",
          "data": {
            "text/plain": [
              "['esp.testa', 'esp.testb', 'esp.train', 'ned.testa', 'ned.testb', 'ned.train']"
            ]
          },
          "metadata": {},
          "execution_count": 1
        }
      ]
    },
    {
      "cell_type": "code",
      "source": [
        "train_sents = list(nltk.corpus.conll2002.iob_sents('esp.train'))\n",
        "test_sents = list(nltk.corpus.conll2002.iob_sents('esp.testb'))\n",
        "eval_sents = list(nltk.corpus.conll2002.iob_sents('esp.testa'))\n",
        "print(len(train_sents),len(max(train_sents,key=len)))\n",
        "print(len(test_sents),len(max(test_sents,key=len)))\n",
        "print(len(eval_sents),len(max(eval_sents,key=len)))"
      ],
      "metadata": {
        "colab": {
          "base_uri": "https://localhost:8080/"
        },
        "id": "XhcSl_XjDBhm",
        "outputId": "e576c185-3331-468e-ad1e-8891c1f8dafa"
      },
      "execution_count": null,
      "outputs": [
        {
          "output_type": "stream",
          "name": "stdout",
          "text": [
            "8323 1238\n",
            "1517 202\n",
            "1915 141\n"
          ]
        }
      ]
    },
    {
      "cell_type": "code",
      "source": [
        "# extraen las etiquetas o labels\n",
        "def sent2labels(sent):\n",
        "    return [label for token, postag, label in sent]\n",
        "# extraer tokens o palabras\n",
        "def sent2tokens(sent):\n",
        "    return [token for token, postag, label in sent]"
      ],
      "metadata": {
        "id": "DyG9oHf0G1zG"
      },
      "execution_count": null,
      "outputs": []
    },
    {
      "cell_type": "code",
      "source": [
        "sent2tokens(train_sents[0])"
      ],
      "metadata": {
        "colab": {
          "base_uri": "https://localhost:8080/"
        },
        "id": "TWdS_k6ad0VR",
        "outputId": "d99b46de-cb9d-49f4-bae0-383c6b78b4a6"
      },
      "execution_count": null,
      "outputs": [
        {
          "output_type": "execute_result",
          "data": {
            "text/plain": [
              "['Melbourne', '(', 'Australia', ')', ',', '25', 'may', '(', 'EFE', ')', '.']"
            ]
          },
          "metadata": {},
          "execution_count": 6
        }
      ]
    },
    {
      "cell_type": "code",
      "source": [
        "sent2tokens(train_sents[0])[0]\n",
        "#sent2labels(train_sents[0])[0]"
      ],
      "metadata": {
        "colab": {
          "base_uri": "https://localhost:8080/",
          "height": 35
        },
        "id": "y9pTmd4sG3Bg",
        "outputId": "ddcb1fb9-1a31-475e-a7d1-4baf5e626597"
      },
      "execution_count": null,
      "outputs": [
        {
          "output_type": "execute_result",
          "data": {
            "text/plain": [
              "'Melbourne'"
            ],
            "application/vnd.google.colaboratory.intrinsic+json": {
              "type": "string"
            }
          },
          "metadata": {},
          "execution_count": 4
        }
      ]
    },
    {
      "cell_type": "code",
      "source": [
        "%%time\n",
        "# Conjunto de train\n",
        "X_train = [sent2tokens(s) for s in train_sents]\n",
        "y_train = [sent2labels(s) for s in train_sents]\n",
        "\n",
        "# Conjunto de testeo o de gold\n",
        "X_test = [sent2tokens(s) for s in test_sents]\n",
        "y_test = [sent2labels(s) for s in test_sents]\n",
        "\n",
        "# Conjunto de validación\n",
        "X_eval = [sent2tokens(s) for s in eval_sents]\n",
        "y_eval = [sent2labels(s) for s in eval_sents]"
      ],
      "metadata": {
        "colab": {
          "base_uri": "https://localhost:8080/"
        },
        "id": "9xpqBn3eG4lr",
        "outputId": "3e4f3249-9d66-4ee5-fa61-b53a39ef7620"
      },
      "execution_count": null,
      "outputs": [
        {
          "output_type": "stream",
          "name": "stdout",
          "text": [
            "CPU times: user 132 ms, sys: 9.65 ms, total: 142 ms\n",
            "Wall time: 146 ms\n"
          ]
        }
      ]
    },
    {
      "cell_type": "code",
      "source": [
        "import numpy as np\n",
        "\n",
        "words, tagsss = set([]), set([])\n",
        "\n",
        "for s in (X_train + X_eval + X_test):\n",
        "    for w in s:\n",
        "        words.add(w.lower())\n",
        "\n",
        "for ts in (y_train + y_eval + y_test):\n",
        "    for t in ts:\n",
        "        tagsss.add(t)\n",
        "\n",
        "word2index = {w: i + 2 for i, w in enumerate(list(words))}\n",
        "word2index['-PAD-'] = 0  # The special value used for padding\n",
        "word2index['-OOV-'] = 1  # The special value used for OOVs\n",
        "\n",
        "tag2index = {t: i + 2 for i, t in enumerate(list(tagsss))}\n",
        "tag2index['-PAD-'] = 0  # The special value used to padding\n",
        "tag2index['-OOV-'] = 1  # The special value used to padding\n",
        "\n",
        "print (len(word2index))\n",
        "print (len(tag2index))\n",
        "print(tag2index)\n",
        "\n",
        "\n",
        "print(tagsss)"
      ],
      "metadata": {
        "colab": {
          "base_uri": "https://localhost:8080/"
        },
        "id": "ln9cj7sxPMrr",
        "outputId": "2fffd602-e39c-45fa-9570-92032abd48fe"
      },
      "execution_count": null,
      "outputs": [
        {
          "output_type": "stream",
          "name": "stdout",
          "text": [
            "28384\n",
            "11\n",
            "{'I-MISC': 2, 'O': 3, 'I-LOC': 4, 'B-MISC': 5, 'I-PER': 6, 'B-ORG': 7, 'I-ORG': 8, 'B-PER': 9, 'B-LOC': 10, '-PAD-': 0, '-OOV-': 1}\n",
            "{'I-MISC', 'O', 'I-LOC', 'B-MISC', 'I-PER', 'B-ORG', 'I-ORG', 'B-PER', 'B-LOC'}\n"
          ]
        }
      ]
    }
  ]
}